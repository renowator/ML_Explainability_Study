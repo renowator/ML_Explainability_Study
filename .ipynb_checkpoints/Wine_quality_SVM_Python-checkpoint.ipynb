{
 "cells": [
  {
   "cell_type": "code",
   "execution_count": 1,
   "metadata": {
    "collapsed": true
   },
   "outputs": [],
   "source": [
    "import sklearn\n",
    "import numpy \n",
    "import pandas\n",
    "from sklearn.ensemble import RandomForestClassifier\n",
    "from sklearn.model_selection import train_test_split\n",
    "from sklearn.metrics import f1_score, make_scorer\n",
    "from sklearn.metrics import confusion_matrix\n",
    "from sklearn.linear_model import SGDClassifier\n",
    "from sklearn.model_selection import GridSearchCV"
   ]
  },
  {
   "cell_type": "markdown",
   "metadata": {},
   "source": [
    "### Load the data into Python:"
   ]
  },
  {
   "cell_type": "code",
   "execution_count": 2,
   "metadata": {
    "collapsed": true
   },
   "outputs": [],
   "source": [
    "db = pandas.read_csv('winequality-red.csv', header=0, delimiter=';')\n",
    "db = db.drop(['Unnamed: 0'], axis=1)"
   ]
  },
  {
   "cell_type": "markdown",
   "metadata": {},
   "source": [
    "### Split the labels and features; make a classification task instead of regression"
   ]
  },
  {
   "cell_type": "code",
   "execution_count": 3,
   "metadata": {},
   "outputs": [],
   "source": [
    "y = db['quality']\n",
    "x = db.drop(['quality'],axis=1)\n",
    "dic = {1:False,2:False,3:False,4:False,5:False,6:True,7:True,8:True,9:True}\n",
    "y = y.map(dic)"
   ]
  },
  {
   "cell_type": "markdown",
   "metadata": {},
   "source": [
    "### Split the dataset for training and testing"
   ]
  },
  {
   "cell_type": "code",
   "execution_count": 4,
   "metadata": {},
   "outputs": [
    {
     "name": "stderr",
     "output_type": "stream",
     "text": [
      "/Users/nickstepanov/miniconda3/envs/RoboND/lib/python3.5/site-packages/sklearn/model_selection/_split.py:2026: FutureWarning: From version 0.21, test_size will always complement train_size unless both are specified.\n",
      "  FutureWarning)\n"
     ]
    }
   ],
   "source": [
    "X_train, X_test, y_train, y_test = train_test_split(x, y, random_state=1, train_size=0.75)"
   ]
  },
  {
   "cell_type": "markdown",
   "metadata": {},
   "source": [
    "### Use Random Forest Classifier and find the most accurate settings by maximizing F_score"
   ]
  },
  {
   "cell_type": "markdown",
   "metadata": {},
   "source": [
    "### Using `GridSearchCV` from `Scikit-learn`"
   ]
  },
  {
   "cell_type": "code",
   "execution_count": 5,
   "metadata": {},
   "outputs": [
    {
     "data": {
      "text/plain": [
       "GridSearchCV(cv=None, error_score='raise',\n",
       "       estimator=RandomForestClassifier(bootstrap=True, class_weight=None, criterion='gini',\n",
       "            max_depth=None, max_features='auto', max_leaf_nodes=None,\n",
       "            min_impurity_decrease=0.0, min_impurity_split=None,\n",
       "            min_samples_leaf=1, min_samples_split=2,\n",
       "            min_weight_fraction_leaf=0.0, n_estimators=10, n_jobs=1,\n",
       "            oob_score=False, random_state=None, verbose=0,\n",
       "            warm_start=False),\n",
       "       fit_params=None, iid=True, n_jobs=1,\n",
       "       param_grid={'class_weight': ({False: 1, True: 9}, {False: 2, True: 8}, {False: 3, True: 7}, {False: 4, True: 6}, {False: 1, True: 1}, {False: 6, True: 4}, {False: 7, True: 3}, {False: 8, True: 2}, {False: 9, True: 1}), 'max_features': ('sqrt', 'log2', None), 'n_estimators': [100, 500, 1000]},\n",
       "       pre_dispatch='2*n_jobs', refit=True, return_train_score='warn',\n",
       "       scoring='f1_macro', verbose=0)"
      ]
     },
     "execution_count": 5,
     "metadata": {},
     "output_type": "execute_result"
    }
   ],
   "source": [
    "parameters = {'max_features':('sqrt', 'log2', None), 'n_estimators':[100, 500, 1000], 'class_weight':({False:1,True:9}, {False:2,True:8}, {False:3,True:7}, {False:4,True:6}, {False:1,True:1}, {False:6,True:4}, {False:7,True:3}, {False:8,True:2}, {False:9,True:1})}\n",
    "RFC = RandomForestClassifier()\n",
    "RFC_GridSearch = GridSearchCV(RFC, parameters, scoring='f1_macro')\n",
    "RFC_GridSearch.fit(X_train, y_train)"
   ]
  },
  {
   "cell_type": "code",
   "execution_count": 6,
   "metadata": {},
   "outputs": [
    {
     "name": "stdout",
     "output_type": "stream",
     "text": [
      "Params:  {'class_weight': {False: 1, True: 9}, 'max_features': 'sqrt', 'n_estimators': 100} Score: 0.78\n",
      "Params:  {'class_weight': {False: 1, True: 9}, 'max_features': 'sqrt', 'n_estimators': 500} Score: 0.79\n",
      "Params:  {'class_weight': {False: 1, True: 9}, 'max_features': 'sqrt', 'n_estimators': 1000} Score: 0.79\n",
      "Params:  {'class_weight': {False: 1, True: 9}, 'max_features': 'log2', 'n_estimators': 100} Score: 0.79\n",
      "Params:  {'class_weight': {False: 1, True: 9}, 'max_features': 'log2', 'n_estimators': 500} Score: 0.78\n",
      "Params:  {'class_weight': {False: 1, True: 9}, 'max_features': 'log2', 'n_estimators': 1000} Score: 0.78\n",
      "Params:  {'class_weight': {False: 1, True: 9}, 'max_features': None, 'n_estimators': 100} Score: 0.77\n",
      "Params:  {'class_weight': {False: 1, True: 9}, 'max_features': None, 'n_estimators': 500} Score: 0.77\n",
      "Params:  {'class_weight': {False: 1, True: 9}, 'max_features': None, 'n_estimators': 1000} Score: 0.78\n",
      "Params:  {'class_weight': {False: 2, True: 8}, 'max_features': 'sqrt', 'n_estimators': 100} Score: 0.79\n",
      "Params:  {'class_weight': {False: 2, True: 8}, 'max_features': 'sqrt', 'n_estimators': 500} Score: 0.79\n",
      "Params:  {'class_weight': {False: 2, True: 8}, 'max_features': 'sqrt', 'n_estimators': 1000} Score: 0.79\n",
      "Params:  {'class_weight': {False: 2, True: 8}, 'max_features': 'log2', 'n_estimators': 100} Score: 0.78\n",
      "Params:  {'class_weight': {False: 2, True: 8}, 'max_features': 'log2', 'n_estimators': 500} Score: 0.79\n",
      "Params:  {'class_weight': {False: 2, True: 8}, 'max_features': 'log2', 'n_estimators': 1000} Score: 0.79\n",
      "Params:  {'class_weight': {False: 2, True: 8}, 'max_features': None, 'n_estimators': 100} Score: 0.78\n",
      "Params:  {'class_weight': {False: 2, True: 8}, 'max_features': None, 'n_estimators': 500} Score: 0.79\n",
      "Params:  {'class_weight': {False: 2, True: 8}, 'max_features': None, 'n_estimators': 1000} Score: 0.78\n",
      "Params:  {'class_weight': {False: 3, True: 7}, 'max_features': 'sqrt', 'n_estimators': 100} Score: 0.79\n",
      "Params:  {'class_weight': {False: 3, True: 7}, 'max_features': 'sqrt', 'n_estimators': 500} Score: 0.79\n",
      "Params:  {'class_weight': {False: 3, True: 7}, 'max_features': 'sqrt', 'n_estimators': 1000} Score: 0.80\n",
      "Params:  {'class_weight': {False: 3, True: 7}, 'max_features': 'log2', 'n_estimators': 100} Score: 0.79\n",
      "Params:  {'class_weight': {False: 3, True: 7}, 'max_features': 'log2', 'n_estimators': 500} Score: 0.79\n",
      "Params:  {'class_weight': {False: 3, True: 7}, 'max_features': 'log2', 'n_estimators': 1000} Score: 0.79\n",
      "Params:  {'class_weight': {False: 3, True: 7}, 'max_features': None, 'n_estimators': 100} Score: 0.78\n",
      "Params:  {'class_weight': {False: 3, True: 7}, 'max_features': None, 'n_estimators': 500} Score: 0.78\n",
      "Params:  {'class_weight': {False: 3, True: 7}, 'max_features': None, 'n_estimators': 1000} Score: 0.78\n",
      "Params:  {'class_weight': {False: 4, True: 6}, 'max_features': 'sqrt', 'n_estimators': 100} Score: 0.78\n",
      "Params:  {'class_weight': {False: 4, True: 6}, 'max_features': 'sqrt', 'n_estimators': 500} Score: 0.80\n",
      "Params:  {'class_weight': {False: 4, True: 6}, 'max_features': 'sqrt', 'n_estimators': 1000} Score: 0.79\n",
      "Params:  {'class_weight': {False: 4, True: 6}, 'max_features': 'log2', 'n_estimators': 100} Score: 0.80\n",
      "Params:  {'class_weight': {False: 4, True: 6}, 'max_features': 'log2', 'n_estimators': 500} Score: 0.80\n",
      "Params:  {'class_weight': {False: 4, True: 6}, 'max_features': 'log2', 'n_estimators': 1000} Score: 0.79\n",
      "Params:  {'class_weight': {False: 4, True: 6}, 'max_features': None, 'n_estimators': 100} Score: 0.78\n",
      "Params:  {'class_weight': {False: 4, True: 6}, 'max_features': None, 'n_estimators': 500} Score: 0.79\n",
      "Params:  {'class_weight': {False: 4, True: 6}, 'max_features': None, 'n_estimators': 1000} Score: 0.78\n",
      "Params:  {'class_weight': {False: 1, True: 1}, 'max_features': 'sqrt', 'n_estimators': 100} Score: 0.79\n",
      "Params:  {'class_weight': {False: 1, True: 1}, 'max_features': 'sqrt', 'n_estimators': 500} Score: 0.80\n",
      "Params:  {'class_weight': {False: 1, True: 1}, 'max_features': 'sqrt', 'n_estimators': 1000} Score: 0.79\n",
      "Params:  {'class_weight': {False: 1, True: 1}, 'max_features': 'log2', 'n_estimators': 100} Score: 0.79\n",
      "Params:  {'class_weight': {False: 1, True: 1}, 'max_features': 'log2', 'n_estimators': 500} Score: 0.79\n",
      "Params:  {'class_weight': {False: 1, True: 1}, 'max_features': 'log2', 'n_estimators': 1000} Score: 0.79\n",
      "Params:  {'class_weight': {False: 1, True: 1}, 'max_features': None, 'n_estimators': 100} Score: 0.78\n",
      "Params:  {'class_weight': {False: 1, True: 1}, 'max_features': None, 'n_estimators': 500} Score: 0.78\n",
      "Params:  {'class_weight': {False: 1, True: 1}, 'max_features': None, 'n_estimators': 1000} Score: 0.78\n",
      "Params:  {'class_weight': {False: 6, True: 4}, 'max_features': 'sqrt', 'n_estimators': 100} Score: 0.79\n",
      "Params:  {'class_weight': {False: 6, True: 4}, 'max_features': 'sqrt', 'n_estimators': 500} Score: 0.79\n",
      "Params:  {'class_weight': {False: 6, True: 4}, 'max_features': 'sqrt', 'n_estimators': 1000} Score: 0.79\n",
      "Params:  {'class_weight': {False: 6, True: 4}, 'max_features': 'log2', 'n_estimators': 100} Score: 0.79\n",
      "Params:  {'class_weight': {False: 6, True: 4}, 'max_features': 'log2', 'n_estimators': 500} Score: 0.80\n",
      "Params:  {'class_weight': {False: 6, True: 4}, 'max_features': 'log2', 'n_estimators': 1000} Score: 0.80\n",
      "Params:  {'class_weight': {False: 6, True: 4}, 'max_features': None, 'n_estimators': 100} Score: 0.78\n",
      "Params:  {'class_weight': {False: 6, True: 4}, 'max_features': None, 'n_estimators': 500} Score: 0.78\n",
      "Params:  {'class_weight': {False: 6, True: 4}, 'max_features': None, 'n_estimators': 1000} Score: 0.78\n",
      "Params:  {'class_weight': {False: 7, True: 3}, 'max_features': 'sqrt', 'n_estimators': 100} Score: 0.79\n",
      "Params:  {'class_weight': {False: 7, True: 3}, 'max_features': 'sqrt', 'n_estimators': 500} Score: 0.78\n",
      "Params:  {'class_weight': {False: 7, True: 3}, 'max_features': 'sqrt', 'n_estimators': 1000} Score: 0.79\n",
      "Params:  {'class_weight': {False: 7, True: 3}, 'max_features': 'log2', 'n_estimators': 100} Score: 0.79\n",
      "Params:  {'class_weight': {False: 7, True: 3}, 'max_features': 'log2', 'n_estimators': 500} Score: 0.78\n",
      "Params:  {'class_weight': {False: 7, True: 3}, 'max_features': 'log2', 'n_estimators': 1000} Score: 0.79\n",
      "Params:  {'class_weight': {False: 7, True: 3}, 'max_features': None, 'n_estimators': 100} Score: 0.77\n",
      "Params:  {'class_weight': {False: 7, True: 3}, 'max_features': None, 'n_estimators': 500} Score: 0.78\n",
      "Params:  {'class_weight': {False: 7, True: 3}, 'max_features': None, 'n_estimators': 1000} Score: 0.78\n",
      "Params:  {'class_weight': {False: 8, True: 2}, 'max_features': 'sqrt', 'n_estimators': 100} Score: 0.79\n",
      "Params:  {'class_weight': {False: 8, True: 2}, 'max_features': 'sqrt', 'n_estimators': 500} Score: 0.78\n",
      "Params:  {'class_weight': {False: 8, True: 2}, 'max_features': 'sqrt', 'n_estimators': 1000} Score: 0.79\n",
      "Params:  {'class_weight': {False: 8, True: 2}, 'max_features': 'log2', 'n_estimators': 100} Score: 0.77\n",
      "Params:  {'class_weight': {False: 8, True: 2}, 'max_features': 'log2', 'n_estimators': 500} Score: 0.78\n",
      "Params:  {'class_weight': {False: 8, True: 2}, 'max_features': 'log2', 'n_estimators': 1000} Score: 0.79\n",
      "Params:  {'class_weight': {False: 8, True: 2}, 'max_features': None, 'n_estimators': 100} Score: 0.77\n",
      "Params:  {'class_weight': {False: 8, True: 2}, 'max_features': None, 'n_estimators': 500} Score: 0.77\n",
      "Params:  {'class_weight': {False: 8, True: 2}, 'max_features': None, 'n_estimators': 1000} Score: 0.77\n",
      "Params:  {'class_weight': {False: 9, True: 1}, 'max_features': 'sqrt', 'n_estimators': 100} Score: 0.78\n",
      "Params:  {'class_weight': {False: 9, True: 1}, 'max_features': 'sqrt', 'n_estimators': 500} Score: 0.77\n",
      "Params:  {'class_weight': {False: 9, True: 1}, 'max_features': 'sqrt', 'n_estimators': 1000} Score: 0.77\n",
      "Params:  {'class_weight': {False: 9, True: 1}, 'max_features': 'log2', 'n_estimators': 100} Score: 0.77\n",
      "Params:  {'class_weight': {False: 9, True: 1}, 'max_features': 'log2', 'n_estimators': 500} Score: 0.77\n",
      "Params:  {'class_weight': {False: 9, True: 1}, 'max_features': 'log2', 'n_estimators': 1000} Score: 0.77\n",
      "Params:  {'class_weight': {False: 9, True: 1}, 'max_features': None, 'n_estimators': 100} Score: 0.76\n",
      "Params:  {'class_weight': {False: 9, True: 1}, 'max_features': None, 'n_estimators': 500} Score: 0.76\n",
      "Params:  {'class_weight': {False: 9, True: 1}, 'max_features': None, 'n_estimators': 1000} Score: 0.76\n",
      "\n",
      " Best f1_score: 0.82 \n",
      " Best estimator:  RandomForestClassifier(bootstrap=True, class_weight={False: 4, True: 6},\n",
      "            criterion='gini', max_depth=None, max_features='sqrt',\n",
      "            max_leaf_nodes=None, min_impurity_decrease=0.0,\n",
      "            min_impurity_split=None, min_samples_leaf=1,\n",
      "            min_samples_split=2, min_weight_fraction_leaf=0.0,\n",
      "            n_estimators=500, n_jobs=1, oob_score=False, random_state=None,\n",
      "            verbose=0, warm_start=False)\n"
     ]
    },
    {
     "name": "stderr",
     "output_type": "stream",
     "text": [
      "/Users/nickstepanov/miniconda3/envs/RoboND/lib/python3.5/site-packages/sklearn/model_selection/_search.py:761: DeprecationWarning: The grid_scores_ attribute was deprecated in version 0.18 in favor of the more elaborate cv_results_ attribute. The grid_scores_ attribute will not be available from 0.20\n",
      "  DeprecationWarning)\n"
     ]
    }
   ],
   "source": [
    "for dicts in RFC_GridSearch.grid_scores_:\n",
    "    print (\"Params: \" , dicts[0], \"Score: %.2f\"%dicts[1])\n",
    "print ( \"\\n Best f1_score: %.2f\"%f1_score(y_test,RFC_GridSearch.best_estimator_.predict(X_test)), \"\\n Best estimator: \", RFC_GridSearch.best_estimator_)"
   ]
  },
  {
   "cell_type": "markdown",
   "metadata": {},
   "source": [
    "### Using for loop"
   ]
  },
  {
   "cell_type": "code",
   "execution_count": 7,
   "metadata": {},
   "outputs": [
    {
     "name": "stdout",
     "output_type": "stream",
     "text": [
      "New max accuracy:  0.8200900090009 Sensitivity:  0.8617021276595744\n",
      "New max accuracy:  0.8276457518385228 Sensitivity:  0.8404255319148937\n",
      "New max accuracy:  0.8301488430268918 Sensitivity:  0.8563829787234043\n",
      "Best setting:  {'Max. Features: ': 'sqrt', 'Class weight: ': {False: 1, True: 9}, 'Num. of estimators: ': 500} \n",
      "Accuracy: 0.83 Sensitivity: 0.86\n"
     ]
    }
   ],
   "source": [
    "accuracy = 0.0\n",
    "for max_features in ('sqrt','log2', None):\n",
    "    for n_estimators in [100, 500, 1000]:\n",
    "        for class_w_f in range(1,9):\n",
    "            class_weight = {False:class_w_f,True:10 - class_w_f} #cutoff = [True]/([True]+[False])\n",
    "            MyRFClassifier = RandomForestClassifier(n_estimators=n_estimators, max_features=max_features, class_weight=class_weight, warm_start=False)\n",
    "            MyRFClassifier.fit(X_train,y_train)\n",
    "            new_accuracy = f1_score(y_test, MyRFClassifier.predict(X_test), average='weighted')\n",
    "            if (new_accuracy > accuracy):\n",
    "                accuracy = new_accuracy\n",
    "                cm = confusion_matrix(y_test,MyRFClassifier.predict(X_test))\n",
    "                sensitivity = cm[0,0]/(cm[0,0]+cm[0,1])\n",
    "                bestRFC = {\"Num. of estimators: \": n_estimators,\"Max. Features: \": max_features, \"Class weight: \": class_weight}\n",
    "                print (\"New max accuracy: %.2f\"%accuracy, \"Sensitivity: %.2f\"%sensitivity)\n",
    "print (\"Best setting: \", bestRFC, \"\\nAccuracy: %.2f\"%accuracy, \"Sensitivity: %.2f\"%sensitivity)"
   ]
  },
  {
   "cell_type": "markdown",
   "metadata": {},
   "source": [
    "### Use SGDClassifier for training SVM"
   ]
  },
  {
   "cell_type": "code",
   "execution_count": 10,
   "metadata": {},
   "outputs": [
    {
     "name": "stderr",
     "output_type": "stream",
     "text": [
      "/Users/nickstepanov/miniconda3/envs/RoboND/lib/python3.5/site-packages/sklearn/model_selection/_split.py:2026: FutureWarning: From version 0.21, test_size will always complement train_size unless both are specified.\n",
      "  FutureWarning)\n"
     ]
    }
   ],
   "source": [
    "db_norm = pandas.read_csv('winequality-red.csv', header=0, delimiter=';')\n",
    "db_norm = db_norm.drop(['Unnamed: 0'], axis=1)\n",
    "#Normalize Data\n",
    "for columns in db:\n",
    "    if columns != \"quality\":\n",
    "        db_norm[columns] = (db_norm[columns] - db_norm[columns].mean())/db_norm[columns].std()\n",
    "y = db_norm['quality']\n",
    "x = db_norm.drop(['quality'],axis=1)\n",
    "dic = {1:False,2:False,3:False,4:False,5:False,6:True,7:True,8:True,9:True}\n",
    "y = y.map(dic)\n",
    "X_train_norm, X_test_norm, y_train_norm, y_test_norm = train_test_split(x, y, random_state=1, train_size=0.75)"
   ]
  },
  {
   "cell_type": "code",
   "execution_count": 16,
   "metadata": {},
   "outputs": [
    {
     "name": "stderr",
     "output_type": "stream",
     "text": [
      "/Users/nickstepanov/miniconda3/envs/RoboND/lib/python3.5/site-packages/sklearn/metrics/classification.py:1135: UndefinedMetricWarning: F-score is ill-defined and being set to 0.0 in labels with no predicted samples.\n",
      "  'precision', 'predicted', average, warn_for)\n",
      "/Users/nickstepanov/miniconda3/envs/RoboND/lib/python3.5/site-packages/sklearn/metrics/classification.py:1135: UndefinedMetricWarning: F-score is ill-defined and being set to 0.0 in labels with no predicted samples.\n",
      "  'precision', 'predicted', average, warn_for)\n"
     ]
    },
    {
     "data": {
      "text/plain": [
       "GridSearchCV(cv=None, error_score='raise',\n",
       "       estimator=SGDClassifier(alpha=0.0001, average=False, class_weight=None, epsilon=0.1,\n",
       "       eta0=0.0, fit_intercept=True, l1_ratio=0.15,\n",
       "       learning_rate='optimal', loss='hinge', max_iter=None, n_iter=None,\n",
       "       n_jobs=1, penalty='l2', power_t=0.5, random_state=None,\n",
       "       shuffle=True, tol=0.0001, verbose=0, warm_start=False),\n",
       "       fit_params=None, iid=True, n_jobs=1,\n",
       "       param_grid={'penalty': ('none', 'l1', 'l2', 'elasticnet'), 'class_weight': ({False: 1, True: 9}, {False: 2, True: 8}, {False: 3, True: 7}, {False: 4, True: 6}, {False: 1, True: 1}, {False: 6, True: 4}, {False: 7, True: 3}, {False: 8, True: 2}, {False: 9, True: 1}), 'alpha': [0.006672226855713094, 0.003336113427856547, 0.0016680567139282735, 0.0008340283569641367, 0.0004170141784820684, 0.0002085070892410342, 0.0001042535446205171]},\n",
       "       pre_dispatch='2*n_jobs', refit=True, return_train_score='warn',\n",
       "       scoring='f1_macro', verbose=0)"
      ]
     },
     "execution_count": 16,
     "metadata": {},
     "output_type": "execute_result"
    }
   ],
   "source": [
    "parameters = {'alpha':[1.0/((2.0**(-3))*1199),1.0/((2.0**(-2))*1199), 1.0/((2.0**(-1))*1199),1.0/((2.0**0)*1199), 1.0/((2.0**1)*1199), 1.0/((2.0**2)*1199), 1.0/((2.0**3)*1199)], 'penalty':('none', 'l1', 'l2', 'elasticnet'), 'class_weight':({False:1,True:9}, {False:2,True:8}, {False:3,True:7}, {False:4,True:6}, {False:1,True:1}, {False:6,True:4}, {False:7,True:3}, {False:8,True:2}, {False:9,True:1})}\n",
    "SVC = SGDClassifier(loss='hinge', tol=0.0001)\n",
    "SVC_GridSearch = GridSearchCV(SVC, parameters, scoring='f1_macro')\n",
    "SVC_GridSearch.fit(X_train_norm, y_train_norm)"
   ]
  },
  {
   "cell_type": "code",
   "execution_count": 22,
   "metadata": {},
   "outputs": [
    {
     "name": "stdout",
     "output_type": "stream",
     "text": [
      "\n",
      " Best f1_score: 0.75 \n",
      " Best estimator:  SGDClassifier(alpha=0.006672226855713094, average=False,\n",
      "       class_weight={False: 1, True: 1}, epsilon=0.1, eta0=0.0,\n",
      "       fit_intercept=True, l1_ratio=0.15, learning_rate='optimal',\n",
      "       loss='hinge', max_iter=None, n_iter=None, n_jobs=1, penalty='none',\n",
      "       power_t=0.5, random_state=None, shuffle=True, tol=0.0001, verbose=0,\n",
      "       warm_start=False)\n"
     ]
    },
    {
     "name": "stderr",
     "output_type": "stream",
     "text": [
      "/Users/nickstepanov/miniconda3/envs/RoboND/lib/python3.5/site-packages/sklearn/model_selection/_search.py:761: DeprecationWarning: The grid_scores_ attribute was deprecated in version 0.18 in favor of the more elaborate cv_results_ attribute. The grid_scores_ attribute will not be available from 0.20\n",
      "  DeprecationWarning)\n"
     ]
    }
   ],
   "source": [
    "for dicts in SVC_GridSearch.grid_scores_:\n",
    "    None\n",
    "    #print (\"Params: \" , dicts[0], \"Score: %.2f\"%dicts[1])\n",
    "print ( \"\\n Best f1_score: %.2f\"%f1_score(y_test_norm,SVC_GridSearch.best_estimator_.predict(X_test_norm)), \"\\n Best estimator: \", SVC_GridSearch.best_estimator_)"
   ]
  },
  {
   "cell_type": "code",
   "execution_count": 11,
   "metadata": {},
   "outputs": [
    {
     "name": "stderr",
     "output_type": "stream",
     "text": [
      "/Users/nickstepanov/miniconda3/envs/RoboND/lib/python3.5/site-packages/sklearn/metrics/classification.py:1135: UndefinedMetricWarning: F-score is ill-defined and being set to 0.0 in labels with no predicted samples.\n",
      "  'precision', 'predicted', average, warn_for)\n"
     ]
    },
    {
     "name": "stdout",
     "output_type": "stream",
     "text": [
      "New max accuracy: 0.30 Sensitivity: 0.90\n",
      "New max accuracy: 0.62 Sensitivity: 0.68\n",
      "New max accuracy: 0.63 Sensitivity: 0.81\n",
      "New max accuracy: 0.69 Sensitivity: 0.63\n",
      "New max accuracy: 0.70 Sensitivity: 0.58\n",
      "New max accuracy: 0.70 Sensitivity: 0.65\n",
      "New max accuracy: 0.71 Sensitivity: 0.64\n",
      "New max accuracy: 0.73 Sensitivity: 0.62\n",
      "New max accuracy: 0.73 Sensitivity: 0.59\n",
      "New max accuracy: 0.74 Sensitivity: 0.70\n",
      "New max accuracy: 0.75 Sensitivity: 0.77\n",
      "New max accuracy: 0.75 Sensitivity: 0.71\n",
      "New max accuracy: 0.76 Sensitivity: 0.76\n",
      "New max accuracy: 0.76 Sensitivity: 0.76\n",
      "New max accuracy: 0.76 Sensitivity: 0.77\n",
      "Best setting:  {'Learning rate:': 'optimal', 'max_iter:': 2000, 'Class weight:': {False: 4, True: 6}, 'Alpha:': 0.0004170141784820684, 'Penalty:': 'none'} Accuracy: 0.76\n"
     ]
    }
   ],
   "source": [
    "accuracy = 0.0\n",
    "for alpha in range(-4,4):\n",
    "    for penalty in ('none', 'l1', 'l2', 'elasticnet'):\n",
    "        for class_w_t in range(1,9):\n",
    "            for n_it in range(1,5):\n",
    "                for lr in ('constant', 'optimal'):\n",
    "                        alpha_ = 1.0/((2.0**alpha)*1199) #Default at 0.0001\n",
    "                        n_iter = n_it*1000\n",
    "                        class_weight = {False:10-class_w_t,True:class_w_t}\n",
    "                        MySVMClassifier = SGDClassifier(loss='hinge', class_weight=class_weight, warm_start=False, max_iter=n_iter, alpha=alpha_, penalty = penalty, learning_rate=lr, eta0=0.000001)\n",
    "                        MySVMClassifier.fit(X_train_norm,y_train_norm)\n",
    "                        cm = confusion_matrix(y_test,MySVMClassifier.predict(X_test))\n",
    "                        sensitivity = cm[0,0]/(cm[0,0]+cm[0,1])\n",
    "                        new_accuracy = f1_score(y_test_norm, MySVMClassifier.predict(X_test_norm), average='weighted')\n",
    "                        if (new_accuracy > accuracy):\n",
    "                            accuracy = new_accuracy\n",
    "                            bestSVM = {\"Alpha:\": alpha_,\"max_iter:\": n_iter, \"Penalty:\": penalty,\"Learning rate:\":lr, \"Class weight:\": class_weight}\n",
    "                            print (\"New max accuracy: %.2f\"%accuracy, \"Sensitivity: %.2f\"%sensitivity)\n",
    "print (\"Best setting: \", bestSVM, \"Accuracy: %.2f\"%accuracy)\n",
    "\n",
    "#MyClassifier.fit(X_train,y_train)\n",
    "#f1_score(y_test, MyClassifier.predict(X_test))"
   ]
  },
  {
   "cell_type": "markdown",
   "metadata": {},
   "source": [
    "### Template on how to use the aquired dictionary"
   ]
  },
  {
   "cell_type": "code",
   "execution_count": null,
   "metadata": {},
   "outputs": [],
   "source": [
    "y_train\n",
    "MyClassifier = SGDClassifier(alpha=bestSVM[\"Alpha:\"], max_iter=bestSVM[\"max_iter:\"], power_t=bestSVM[\"Power_t:\"], class_weight=bestSVM[\"Class weight:\"])\n",
    "MyClassifier.fit(X_train, y_train)\n",
    "MyClassifier.predict(X_test)"
   ]
  },
  {
   "cell_type": "code",
   "execution_count": null,
   "metadata": {},
   "outputs": [],
   "source": [
    "bestSVM"
   ]
  },
  {
   "cell_type": "code",
   "execution_count": null,
   "metadata": {},
   "outputs": [],
   "source": [
    "bestRFC"
   ]
  },
  {
   "cell_type": "code",
   "execution_count": null,
   "metadata": {},
   "outputs": [],
   "source": [
    "from sklearn.svm import SVC\n",
    "accuracy = 0.0\n",
    "for C in range(-5,5):\n",
    "    for cache in range(1,5):\n",
    "        for gamma in range(1,4):\n",
    "            for tol in range(1,5):\n",
    "                if gamma == 1:\n",
    "                    gamma_p = 'auto'\n",
    "                else:\n",
    "                    gamma_p = 0.1*gamma\n",
    "                C_val = 2.0**C\n",
    "                cache_size = cache*1000\n",
    "                tol_v = tol*0.001\n",
    "                MySVMClassifier = SVC(C=C_val, cache_size=cache_size,gamma = gamma_p, tol=tol_v,  max_iter = -1 )\n",
    "                MySVMClassifier.fit(X_train,y_train)\n",
    "                cm = confusion_matrix(y_test,MySVMClassifier.predict(X_test))\n",
    "                sensitivity = cm[0,0]/(cm[0,0]+cm[0,1])\n",
    "                new_accuracy = f1_score(y_test, MySVMClassifier.predict(X_test), average='weighted')\n",
    "                if accuracy < new_accuracy:\n",
    "                    accuracy = new_accuracy\n",
    "                    print (\"accuracy: \", accuracy, \"Sensitivity: \", sensitivity)\n",
    "#print (\"Best setting: \", bestSVM, \"Accuracy: \", accuracy)"
   ]
  },
  {
   "cell_type": "code",
   "execution_count": null,
   "metadata": {},
   "outputs": [],
   "source": [
    "len(X_train)"
   ]
  },
  {
   "cell_type": "code",
   "execution_count": null,
   "metadata": {
    "collapsed": true
   },
   "outputs": [],
   "source": []
  }
 ],
 "metadata": {
  "kernelspec": {
   "display_name": "Python 3",
   "language": "python",
   "name": "python3"
  },
  "language_info": {
   "codemirror_mode": {
    "name": "ipython",
    "version": 3
   },
   "file_extension": ".py",
   "mimetype": "text/x-python",
   "name": "python",
   "nbconvert_exporter": "python",
   "pygments_lexer": "ipython3",
   "version": "3.5.2"
  },
  "widgets": {
   "state": {},
   "version": "1.1.2"
  }
 },
 "nbformat": 4,
 "nbformat_minor": 2
}
