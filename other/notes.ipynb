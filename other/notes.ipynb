{
 "cells": [
  {
   "cell_type": "markdown",
   "metadata": {},
   "source": [
    "accuracy = 0.0\n",
    "for alpha in range(-4,4):\n",
    "    for penalty in ('none', 'l1', 'l2', 'elasticnet'):\n",
    "        for class_w_t in range(1,9):\n",
    "            for n_it in range(1,5):\n",
    "                for lr in ('constant', 'optimal'):\n",
    "                        alpha_ = 1.0/((2.0**alpha)*1199) #Default at 0.0001\n",
    "                        n_iter = n_it*1000\n",
    "                        class_weight = {False:10-class_w_t,True:class_w_t}\n",
    "                        MySVMClassifier = SGDClassifier(loss='hinge', class_weight=class_weight, warm_start=False, max_iter=n_iter, alpha=alpha_, penalty = penalty, learning_rate=lr, eta0=0.000001)\n",
    "                        MySVMClassifier.fit(X_train_norm,y_train_norm)\n",
    "                        cm = confusion_matrix(y_test,MySVMClassifier.predict(X_test))\n",
    "                        sensitivity = cm[0,0]/(cm[0,0]+cm[0,1])\n",
    "                        new_accuracy = f1_score(y_test_norm, MySVMClassifier.predict(X_test_norm), average='weighted')\n",
    "                        if (new_accuracy > accuracy):\n",
    "                            accuracy = new_accuracy\n",
    "                            bestSVM = {\"Alpha:\": alpha_,\"max_iter:\": n_iter, \"Penalty:\": penalty,\"Learning rate:\":lr, \"Class weight:\": class_weight}\n",
    "                            print (\"New max accuracy: %.2f\"%accuracy, \"Sensitivity: %.2f\"%sensitivity)\n",
    "print (\"Best setting: \", bestSVM, \"Accuracy: %.2f\"%accuracy)\n",
    "\n",
    "#MyClassifier.fit(X_train,y_train)\n",
    "#f1_score(y_test, MyClassifier.predict(X_test))"
   ]
  },
  {
   "cell_type": "markdown",
   "metadata": {},
   "source": [
    "parameters = {'alpha':[1.0/((2.0**(-3))*1199),1.0/((2.0**(-2))*1199), 1.0/((2.0**(-1))*1199),1.0/((2.0**0)*1199), 1.0/((2.0**1)*1199), 1.0/((2.0**2)*1199), 1.0/((2.0**3)*1199)], 'penalty':('none', 'l1', 'l2', 'elasticnet'), 'class_weight':({False:1,True:9}, {False:2,True:8}, {False:3,True:7}, {False:4,True:6}, {False:1,True:1}, {False:6,True:4}, {False:7,True:3}, {False:8,True:2}, {False:9,True:1})}\n",
    "SVC = SGDClassifier(loss='hinge', tol=0.0001)\n",
    "SVC_GridSearch = GridSearchCV(SVC, parameters, scoring='f1_macro')\n",
    "SVC_GridSearch.fit(X_train_norm, y_train_norm)"
   ]
  },
  {
   "cell_type": "markdown",
   "metadata": {},
   "source": [
    "parameters = {'max_features':('sqrt', 'log2', None), 'n_estimators':[100, 500, 1000], 'class_weight':({False:1,True:9}, {False:2,True:8}, {False:3,True:7}, {False:4,True:6}, {False:1,True:1}, {False:6,True:4}, {False:7,True:3}, {False:8,True:2}, {False:9,True:1})}\n",
    "RFC = RandomForestClassifier()\n",
    "RFC_GridSearch = GridSearchCV(RFC, parameters, scoring='f1_macro')\n",
    "RFC_GridSearch.fit(X_train, y_train)"
   ]
  },
  {
   "cell_type": "code",
   "execution_count": null,
   "metadata": {
    "collapsed": true
   },
   "outputs": [],
   "source": []
  }
 ],
 "metadata": {
  "kernelspec": {
   "display_name": "Python 3",
   "language": "python",
   "name": "python3"
  },
  "language_info": {
   "codemirror_mode": {
    "name": "ipython",
    "version": 3
   },
   "file_extension": ".py",
   "mimetype": "text/x-python",
   "name": "python",
   "nbconvert_exporter": "python",
   "pygments_lexer": "ipython3",
   "version": "3.5.2"
  },
  "widgets": {
   "state": {},
   "version": "1.1.2"
  }
 },
 "nbformat": 4,
 "nbformat_minor": 2
}
