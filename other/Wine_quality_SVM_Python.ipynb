{
 "cells": [
  {
   "cell_type": "code",
   "execution_count": 1,
   "metadata": {
    "collapsed": true
   },
   "outputs": [],
   "source": [
    "import sklearn\n",
    "import numpy \n",
    "import pandas\n",
    "from sklearn.ensemble import RandomForestClassifier\n",
    "from sklearn.model_selection import train_test_split\n",
    "from sklearn.metrics import f1_score, make_scorer\n",
    "from sklearn.metrics import confusion_matrix\n",
    "from sklearn.linear_model import SGDClassifier\n",
    "from sklearn.model_selection import GridSearchCV"
   ]
  },
  {
   "cell_type": "markdown",
   "metadata": {},
   "source": [
    "### Load the data into Python:"
   ]
  },
  {
   "cell_type": "code",
   "execution_count": 2,
   "metadata": {
    "collapsed": true
   },
   "outputs": [],
   "source": [
    "db = pandas.read_csv('winequality-red.csv', header=0, delimiter=';')\n",
    "db = db.drop(['Unnamed: 0'], axis=1)"
   ]
  },
  {
   "cell_type": "markdown",
   "metadata": {},
   "source": [
    "### Split the labels and features; make a classification task instead of regression"
   ]
  },
  {
   "cell_type": "code",
   "execution_count": 53,
   "metadata": {},
   "outputs": [],
   "source": [
    "y = db['quality']\n",
    "x = db.drop(['quality'],axis=1)\n",
    "dic = {1:False,2:False,3:False,4:False,5:False,6:True,7:True,8:True,9:True}\n",
    "y = y.map(dic)"
   ]
  },
  {
   "cell_type": "markdown",
   "metadata": {},
   "source": [
    "### Split the dataset for training and testing"
   ]
  },
  {
   "cell_type": "code",
   "execution_count": 4,
   "metadata": {},
   "outputs": [
    {
     "name": "stderr",
     "output_type": "stream",
     "text": [
      "/Users/nickstepanov/miniconda3/envs/RoboND/lib/python3.5/site-packages/sklearn/model_selection/_split.py:2026: FutureWarning: From version 0.21, test_size will always complement train_size unless both are specified.\n",
      "  FutureWarning)\n"
     ]
    }
   ],
   "source": [
    "X_train, X_test, y_train, y_test = train_test_split(x, y, random_state=1, train_size=0.75)"
   ]
  },
  {
   "cell_type": "markdown",
   "metadata": {},
   "source": [
    "### Use SVC for training SVM"
   ]
  },
  {
   "cell_type": "code",
   "execution_count": 5,
   "metadata": {},
   "outputs": [
    {
     "name": "stderr",
     "output_type": "stream",
     "text": [
      "/Users/nickstepanov/miniconda3/envs/RoboND/lib/python3.5/site-packages/sklearn/model_selection/_split.py:2026: FutureWarning: From version 0.21, test_size will always complement train_size unless both are specified.\n",
      "  FutureWarning)\n"
     ]
    }
   ],
   "source": [
    "db_norm = pandas.read_csv('winequality-red.csv', header=0, delimiter=';')\n",
    "db_norm = db_norm.drop(['Unnamed: 0'], axis=1)\n",
    "#Normalize Data\n",
    "for columns in db:\n",
    "    if columns != \"quality\":\n",
    "        db_norm[columns] = (db_norm[columns] - db_norm[columns].mean())/db_norm[columns].std()\n",
    "y = db_norm['quality']\n",
    "x = db_norm.drop(['quality'],axis=1)\n",
    "dic = {1:False,2:False,3:False,4:False,5:False,6:True,7:True,8:True,9:True}\n",
    "y = y.map(dic)\n",
    "X_train_norm, X_test_norm, y_train_norm, y_test_norm = train_test_split(x, y, random_state=1, train_size=0.75)"
   ]
  },
  {
   "cell_type": "code",
   "execution_count": 6,
   "metadata": {},
   "outputs": [
    {
     "name": "stderr",
     "output_type": "stream",
     "text": [
      "/Users/nickstepanov/miniconda3/envs/RoboND/lib/python3.5/site-packages/sklearn/metrics/classification.py:1135: UndefinedMetricWarning: F-score is ill-defined and being set to 0.0 in labels with no predicted samples.\n",
      "  'precision', 'predicted', average, warn_for)\n"
     ]
    },
    {
     "name": "stdout",
     "output_type": "stream",
     "text": [
      "Accuracy: 0.37 Sensitivity: 0.00 C:  0.001\n",
      "Accuracy: 0.39 Sensitivity: 0.02 C:  0.01\n",
      "Accuracy: 0.73 Sensitivity: 0.69 C:  0.021544\n",
      "Accuracy: 0.73 Sensitivity: 0.72 C:  0.03125\n",
      "Accuracy: 0.75 Sensitivity: 0.76 C:  0.0625\n",
      "Accuracy: 0.76 Sensitivity: 0.77 C:  0.125\n"
     ]
    }
   ],
   "source": [
    "from sklearn.svm import SVC\n",
    "accuracy = 0.0\n",
    "for C in [0.001,\n",
    "0.002154435,\n",
    "0.004641589,\n",
    "0.01,\n",
    "0.021544, 0.03125,  0.06250,  0.12500,  0.25000,  0.50000,  1.00000,  2.00000,  4.00000,\n",
    "8.00000, 16.00000, 32.00000]:\n",
    "                C_val = C\n",
    "                MySVMClassifier = SVC(C=C_val)\n",
    "                MySVMClassifier.fit(X_train_norm,y_train_norm)\n",
    "                cm = confusion_matrix(y_test_norm,MySVMClassifier.predict(X_test_norm))\n",
    "                sensitivity = cm[0,0]/(cm[0,0]+cm[0,1])\n",
    "                new_accuracy = f1_score(y_test_norm, MySVMClassifier.predict(X_test_norm), average='weighted')\n",
    "                if accuracy < new_accuracy:\n",
    "                    accuracy = new_accuracy\n",
    "                    print (\"Accuracy: %.2f\"%accuracy, \"Sensitivity: %.2f\"%sensitivity, \"C: \", C)\n",
    "#print (\"Best setting: \", bestSVM, \"Accuracy: \", accuracy)"
   ]
  },
  {
   "cell_type": "code",
   "execution_count": 37,
   "metadata": {},
   "outputs": [
    {
     "data": {
      "text/plain": [
       "<Figure size 432x288 with 0 Axes>"
      ]
     },
     "metadata": {},
     "output_type": "display_data"
    }
   ],
   "source": [
    "import matplotlib.pyplot as plt\n",
    "plt.figure()\n",
    "plt.show()"
   ]
  },
  {
   "cell_type": "code",
   "execution_count": 27,
   "metadata": {},
   "outputs": [
    {
     "data": {
      "text/plain": [
       "SVC(C=0.125, cache_size=200, class_weight=None, coef0=0.0,\n",
       "  decision_function_shape='ovr', degree=3, gamma='auto', kernel='rbf',\n",
       "  max_iter=-1, probability=False, random_state=None, shrinking=True,\n",
       "  tol=0.001, verbose=False)"
      ]
     },
     "execution_count": 27,
     "metadata": {},
     "output_type": "execute_result"
    }
   ],
   "source": [
    "MySVMClassifier = SVC(C=0.125)\n",
    "MySVMClassifier.fit(X_train_norm,y_train_norm)"
   ]
  },
  {
   "cell_type": "code",
   "execution_count": null,
   "metadata": {
    "collapsed": true
   },
   "outputs": [],
   "source": []
  }
 ],
 "metadata": {
  "kernelspec": {
   "display_name": "Python 3",
   "language": "python",
   "name": "python3"
  },
  "language_info": {
   "codemirror_mode": {
    "name": "ipython",
    "version": 3
   },
   "file_extension": ".py",
   "mimetype": "text/x-python",
   "name": "python",
   "nbconvert_exporter": "python",
   "pygments_lexer": "ipython3",
   "version": "3.5.2"
  },
  "widgets": {
   "state": {},
   "version": "1.1.2"
  }
 },
 "nbformat": 4,
 "nbformat_minor": 2
}
